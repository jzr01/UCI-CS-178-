{
 "cells": [
  {
   "cell_type": "code",
   "execution_count": 61,
   "id": "c0717f41",
   "metadata": {},
   "outputs": [],
   "source": [
    "import numpy as np\n",
    "import mltools as ml\n",
    "import matplotlib.pyplot as plt\n",
    "import sklearn\n",
    "import tensorflow as tf\n",
    "from tensorflow import keras"
   ]
  },
  {
   "cell_type": "code",
   "execution_count": 62,
   "id": "c7045d94",
   "metadata": {},
   "outputs": [],
   "source": [
    "Xtr = np.genfromtxt('data/X_train.txt',delimiter=',')\n",
    "Ytr = np.genfromtxt('data/Y_train.txt',delimiter=',')\n",
    "Xte = np.genfromtxt('data/X_test.txt',delimiter=',')\n",
    "Xtr,Ytr = ml.shuffleData(Xtr,Ytr)\n",
    "\n",
    "Xtr,Xva,Ytr,Yva = ml.splitData(Xtr,Ytr); # split data into 80/20 train/validation\n",
    "Xtr, Ytr = ml.shuffleData(Xtr, Ytr)"
   ]
  },
  {
   "cell_type": "code",
   "execution_count": 40,
   "id": "c93d1615",
   "metadata": {},
   "outputs": [
    {
     "name": "stdout",
     "output_type": "stream",
     "text": [
      "(5938, 107)\n",
      "(5938,)\n",
      "(7422, 107)\n"
     ]
    }
   ],
   "source": [
    "print(Xtr.shape)\n",
    "print(Ytr.shape)\n",
    "print(Xte.shape)"
   ]
  },
  {
   "cell_type": "markdown",
   "id": "a8f2c84a",
   "metadata": {},
   "source": [
    "# Linear Classifier"
   ]
  },
  {
   "cell_type": "code",
   "execution_count": 46,
   "id": "f8f547f5",
   "metadata": {},
   "outputs": [],
   "source": [
    "Xtr,params = ml.transforms.rescale(Xtr)\n",
    "Xva,_ = ml.transforms.rescale(Xva, params)\n",
    "Xte,_ = ml.transforms.rescale(Xte)"
   ]
  },
  {
   "cell_type": "code",
   "execution_count": 51,
   "id": "158ae17f",
   "metadata": {},
   "outputs": [],
   "source": [
    "learner = ml.linearC.linearClassify()\n",
    "learner.train(Xtr, Ytr, reg=0.1, initStep=0.01, stopTol=1e-6, stopIter=100)"
   ]
  },
  {
   "cell_type": "code",
   "execution_count": 57,
   "id": "c403620b",
   "metadata": {},
   "outputs": [
    {
     "name": "stdout",
     "output_type": "stream",
     "text": [
      "Train AUC: 0.6752561185692415\n",
      "Validation AUC: 0.630814523686715\n"
     ]
    },
    {
     "data": {
      "image/png": "[encoded data removed]",
      "text/plain": [
       "<Figure size 432x288 with 1 Axes>"
      ]
     },
     "metadata": {
      "needs_background": "light"
     },
     "output_type": "display_data"
    }
   ],
   "source": [
    "probs = learner.predictSoft(Xte)\n",
    "\n",
    "ROC1 = learner.roc(Xtr,Ytr)\n",
    "ROC2 = learner.roc(Xva,Yva)\n",
    "\n",
    "plt.plot(ROC1[0],ROC1[1],label = 'train')\n",
    "plt.plot(ROC2[0],ROC2[1],label = 'validation')\n",
    "plt.legend()\n",
    "\n",
    "print(\"Train AUC: \" + str(learner.auc(Xtr, Ytr)))\n",
    "print(\"Validation AUC: \" + str(learner.auc(Xva, Yva)))\n",
    "\n",
    "Yte = np.vstack((np.arange(Xte.shape[0]), learner.predictSoft(Xte)[:,1])).T\n",
    "\n",
    "np.savetxt('Y_submit_classifier.txt',Yte,'%d, %.2f',header='ID,Predicted',comments='',delimiter=',')"
   ]
  },
  {
   "cell_type": "markdown",
   "id": "d666d337",
   "metadata": {},
   "source": [
    "# Neural Network"
   ]
  },
  {
   "cell_type": "code",
   "execution_count": 90,
   "id": "3629ff72",
   "metadata": {},
   "outputs": [],
   "source": [
    "\n",
    "model = keras.Sequential(\n",
    "    [\n",
    "        keras.layers.InputLayer(input_shape = Xtr[1].shape),\n",
    "        keras.layers.Flatten(),\n",
    "        keras.layers.Dense(128, activation=\"sigmoid\"),\n",
    "        keras.layers.Dense(256, activation='softmax'),\n",
    "        keras.layers.Dense(200, activation=\"sigmoid\"),\n",
    "        keras.layers.Dense(100, activation='softmax'),\n",
    "        keras.layers.Dense(1,activation=\"sigmoid\")\n",
    "    ]\n",
    ")\n",
    "\n",
    "model.compile(\n",
    "    loss='binary_crossentropy', \n",
    "    optimizer = keras.optimizers.SGD(learning_rate=0.01),\n",
    "    metrics=[\"accuracy\"],\n",
    ")"
   ]
  },
  {
   "cell_type": "code",
   "execution_count": 91,
   "id": "f7ce281a",
   "metadata": {},
   "outputs": [
    {
     "name": "stdout",
     "output_type": "stream",
     "text": [
      "Epoch 1/100\n",
      "186/186 [==============================] - 2s 7ms/step - loss: 0.6932 - accuracy: 0.4956 - val_loss: 0.6930 - val_accuracy: 0.5178\n",
      "Epoch 2/100\n",
      "186/186 [==============================] - 1s 6ms/step - loss: 0.6932 - accuracy: 0.4993 - val_loss: 0.6930 - val_accuracy: 0.5178\n",
      "Epoch 3/100\n",
      "186/186 [==============================] - 1s 6ms/step - loss: 0.6932 - accuracy: 0.5024 - val_loss: 0.6930 - val_accuracy: 0.5178\n",
      "Epoch 4/100\n",
      "186/186 [==============================] - 1s 6ms/step - loss: 0.6932 - accuracy: 0.5024 - val_loss: 0.6930 - val_accuracy: 0.5178\n",
      "Epoch 5/100\n",
      "186/186 [==============================] - 1s 6ms/step - loss: 0.6932 - accuracy: 0.5024 - val_loss: 0.6930 - val_accuracy: 0.5178\n",
      "Epoch 6/100\n",
      "186/186 [==============================] - 1s 6ms/step - loss: 0.6932 - accuracy: 0.5024 - val_loss: 0.6930 - val_accuracy: 0.5178\n",
      "Epoch 7/100\n",
      "186/186 [==============================] - 1s 6ms/step - loss: 0.6932 - accuracy: 0.5024 - val_loss: 0.6930 - val_accuracy: 0.5178\n",
      "Epoch 8/100\n",
      "186/186 [==============================] - 1s 6ms/step - loss: 0.6932 - accuracy: 0.4998 - val_loss: 0.6930 - val_accuracy: 0.5178\n",
      "Epoch 9/100\n",
      "186/186 [==============================] - 1s 6ms/step - loss: 0.6932 - accuracy: 0.5024 - val_loss: 0.6929 - val_accuracy: 0.5178\n",
      "Epoch 10/100\n",
      "186/186 [==============================] - 1s 6ms/step - loss: 0.6932 - accuracy: 0.5024 - val_loss: 0.6930 - val_accuracy: 0.5178\n",
      "Epoch 11/100\n",
      "186/186 [==============================] - 1s 6ms/step - loss: 0.6932 - accuracy: 0.5024 - val_loss: 0.6930 - val_accuracy: 0.5178\n",
      "Epoch 12/100\n",
      "186/186 [==============================] - 1s 6ms/step - loss: 0.6932 - accuracy: 0.4946 - val_loss: 0.6930 - val_accuracy: 0.5178\n",
      "Epoch 13/100\n",
      "186/186 [==============================] - 1s 5ms/step - loss: 0.6932 - accuracy: 0.5007 - val_loss: 0.6930 - val_accuracy: 0.5178\n",
      "Epoch 14/100\n",
      "186/186 [==============================] - 1s 6ms/step - loss: 0.6932 - accuracy: 0.5024 - val_loss: 0.6930 - val_accuracy: 0.5178\n",
      "Epoch 15/100\n",
      "186/186 [==============================] - 1s 6ms/step - loss: 0.6932 - accuracy: 0.5024 - val_loss: 0.6930 - val_accuracy: 0.5178\n",
      "Epoch 16/100\n",
      "186/186 [==============================] - 1s 6ms/step - loss: 0.6932 - accuracy: 0.5024 - val_loss: 0.6930 - val_accuracy: 0.5178\n",
      "Epoch 17/100\n",
      "186/186 [==============================] - 1s 6ms/step - loss: 0.6932 - accuracy: 0.5024 - val_loss: 0.6930 - val_accuracy: 0.5178\n",
      "Epoch 18/100\n",
      "186/186 [==============================] - 1s 6ms/step - loss: 0.6932 - accuracy: 0.5020 - val_loss: 0.6930 - val_accuracy: 0.5178\n",
      "Epoch 19/100\n",
      "186/186 [==============================] - 1s 6ms/step - loss: 0.6932 - accuracy: 0.5024 - val_loss: 0.6929 - val_accuracy: 0.5178\n",
      "Epoch 20/100\n",
      "186/186 [==============================] - 1s 6ms/step - loss: 0.6932 - accuracy: 0.5024 - val_loss: 0.6930 - val_accuracy: 0.5178\n",
      "Epoch 21/100\n",
      "186/186 [==============================] - 1s 6ms/step - loss: 0.6932 - accuracy: 0.5024 - val_loss: 0.6930 - val_accuracy: 0.5178\n",
      "Epoch 22/100\n",
      "186/186 [==============================] - 1s 6ms/step - loss: 0.6932 - accuracy: 0.4980 - val_loss: 0.6930 - val_accuracy: 0.5178\n",
      "Epoch 23/100\n",
      "186/186 [==============================] - 1s 6ms/step - loss: 0.6932 - accuracy: 0.5024 - val_loss: 0.6930 - val_accuracy: 0.5178\n",
      "Epoch 24/100\n",
      "186/186 [==============================] - 1s 6ms/step - loss: 0.6932 - accuracy: 0.5024 - val_loss: 0.6930 - val_accuracy: 0.5178\n",
      "Epoch 25/100\n",
      "186/186 [==============================] - 1s 6ms/step - loss: 0.6932 - accuracy: 0.5024 - val_loss: 0.6930 - val_accuracy: 0.5178\n",
      "Epoch 26/100\n",
      "186/186 [==============================] - 1s 6ms/step - loss: 0.6932 - accuracy: 0.4963 - val_loss: 0.6930 - val_accuracy: 0.5178\n",
      "Epoch 27/100\n",
      "186/186 [==============================] - 1s 6ms/step - loss: 0.6932 - accuracy: 0.5024 - val_loss: 0.6930 - val_accuracy: 0.5178\n",
      "Epoch 28/100\n",
      "186/186 [==============================] - 1s 6ms/step - loss: 0.6932 - accuracy: 0.4973 - val_loss: 0.6930 - val_accuracy: 0.5178\n",
      "Epoch 29/100\n",
      "186/186 [==============================] - 1s 6ms/step - loss: 0.6932 - accuracy: 0.4970 - val_loss: 0.6930 - val_accuracy: 0.5178\n",
      "Epoch 30/100\n",
      "186/186 [==============================] - 1s 6ms/step - loss: 0.6932 - accuracy: 0.5024 - val_loss: 0.6930 - val_accuracy: 0.5178\n",
      "Epoch 31/100\n",
      "186/186 [==============================] - 1s 6ms/step - loss: 0.6932 - accuracy: 0.5024 - val_loss: 0.6930 - val_accuracy: 0.5178\n",
      "Epoch 32/100\n",
      "186/186 [==============================] - 1s 6ms/step - loss: 0.6932 - accuracy: 0.5024 - val_loss: 0.6930 - val_accuracy: 0.5178\n",
      "Epoch 33/100\n",
      "186/186 [==============================] - 1s 6ms/step - loss: 0.6932 - accuracy: 0.5024 - val_loss: 0.6930 - val_accuracy: 0.5178\n",
      "Epoch 34/100\n",
      "186/186 [==============================] - 1s 6ms/step - loss: 0.6932 - accuracy: 0.5024 - val_loss: 0.6930 - val_accuracy: 0.5178\n",
      "Epoch 35/100\n",
      "186/186 [==============================] - 1s 6ms/step - loss: 0.6932 - accuracy: 0.4980 - val_loss: 0.6930 - val_accuracy: 0.5178\n",
      "Epoch 36/100\n",
      "186/186 [==============================] - 1s 6ms/step - loss: 0.6932 - accuracy: 0.5024 - val_loss: 0.6930 - val_accuracy: 0.5178\n",
      "Epoch 37/100\n",
      "186/186 [==============================] - ETA: 0s - loss: 0.6932 - accuracy: 0.50 - 1s 5ms/step - loss: 0.6932 - accuracy: 0.5024 - val_loss: 0.6930 - val_accuracy: 0.5178\n",
      "Epoch 38/100\n",
      "186/186 [==============================] - 1s 6ms/step - loss: 0.6932 - accuracy: 0.5013 - val_loss: 0.6929 - val_accuracy: 0.5178\n",
      "Epoch 39/100\n",
      "186/186 [==============================] - 1s 6ms/step - loss: 0.6932 - accuracy: 0.5024 - val_loss: 0.6930 - val_accuracy: 0.5178\n",
      "Epoch 40/100\n",
      "186/186 [==============================] - 1s 6ms/step - loss: 0.6932 - accuracy: 0.5024 - val_loss: 0.6930 - val_accuracy: 0.5178\n",
      "Epoch 41/100\n",
      "186/186 [==============================] - 1s 6ms/step - loss: 0.6932 - accuracy: 0.5024 - val_loss: 0.6930 - val_accuracy: 0.5178\n",
      "Epoch 42/100\n",
      "186/186 [==============================] - 1s 6ms/step - loss: 0.6932 - accuracy: 0.5024 - val_loss: 0.6930 - val_accuracy: 0.5178\n",
      "Epoch 43/100\n",
      "186/186 [==============================] - 1s 6ms/step - loss: 0.6932 - accuracy: 0.5024 - val_loss: 0.6930 - val_accuracy: 0.5178\n",
      "Epoch 44/100\n",
      "186/186 [==============================] - 1s 6ms/step - loss: 0.6932 - accuracy: 0.5024 - val_loss: 0.6930 - val_accuracy: 0.5178\n",
      "Epoch 45/100\n",
      "186/186 [==============================] - 1s 6ms/step - loss: 0.6932 - accuracy: 0.5024 - val_loss: 0.6930 - val_accuracy: 0.5178\n",
      "Epoch 46/100\n",
      "186/186 [==============================] - 1s 5ms/step - loss: 0.6932 - accuracy: 0.5024 - val_loss: 0.6930 - val_accuracy: 0.5178\n",
      "Epoch 47/100\n",
      "186/186 [==============================] - 1s 6ms/step - loss: 0.6932 - accuracy: 0.5024 - val_loss: 0.6930 - val_accuracy: 0.5178\n",
      "Epoch 48/100\n",
      "186/186 [==============================] - 1s 6ms/step - loss: 0.6932 - accuracy: 0.4987 - val_loss: 0.6930 - val_accuracy: 0.5178\n",
      "Epoch 49/100\n",
      "186/186 [==============================] - 1s 6ms/step - loss: 0.6932 - accuracy: 0.5024 - val_loss: 0.6930 - val_accuracy: 0.5178\n",
      "Epoch 50/100\n",
      "186/186 [==============================] - 1s 5ms/step - loss: 0.6932 - accuracy: 0.5024 - val_loss: 0.6930 - val_accuracy: 0.5178\n",
      "Epoch 51/100\n",
      "186/186 [==============================] - 1s 6ms/step - loss: 0.6932 - accuracy: 0.5024 - val_loss: 0.6930 - val_accuracy: 0.5178\n",
      "Epoch 52/100\n",
      "186/186 [==============================] - 1s 5ms/step - loss: 0.6932 - accuracy: 0.5024 - val_loss: 0.6930 - val_accuracy: 0.5178\n",
      "Epoch 53/100\n",
      "186/186 [==============================] - 1s 5ms/step - loss: 0.6932 - accuracy: 0.5024 - val_loss: 0.6930 - val_accuracy: 0.5178\n",
      "Epoch 54/100\n",
      "186/186 [==============================] - 1s 5ms/step - loss: 0.6932 - accuracy: 0.5024 - val_loss: 0.6930 - val_accuracy: 0.5178\n",
      "Epoch 55/100\n",
      "186/186 [==============================] - 1s 6ms/step - loss: 0.6932 - accuracy: 0.5024 - val_loss: 0.6930 - val_accuracy: 0.5178\n",
      "Epoch 56/100\n",
      "186/186 [==============================] - 1s 6ms/step - loss: 0.6932 - accuracy: 0.5010 - val_loss: 0.6930 - val_accuracy: 0.5178\n",
      "Epoch 57/100\n"
     ]
    },
    {
     "name": "stdout",
     "output_type": "stream",
     "text": [
      "186/186 [==============================] - 1s 6ms/step - loss: 0.6932 - accuracy: 0.5024 - val_loss: 0.6930 - val_accuracy: 0.5178\n",
      "Epoch 58/100\n",
      "186/186 [==============================] - 1s 6ms/step - loss: 0.6932 - accuracy: 0.5024 - val_loss: 0.6930 - val_accuracy: 0.5178\n",
      "Epoch 59/100\n",
      "186/186 [==============================] - 1s 6ms/step - loss: 0.6932 - accuracy: 0.5024 - val_loss: 0.6930 - val_accuracy: 0.5178\n",
      "Epoch 60/100\n",
      "186/186 [==============================] - 1s 6ms/step - loss: 0.6932 - accuracy: 0.5024 - val_loss: 0.6930 - val_accuracy: 0.5178\n",
      "Epoch 61/100\n",
      "186/186 [==============================] - 1s 6ms/step - loss: 0.6932 - accuracy: 0.5010 - val_loss: 0.6930 - val_accuracy: 0.5178\n",
      "Epoch 62/100\n",
      "186/186 [==============================] - 1s 6ms/step - loss: 0.6932 - accuracy: 0.5024 - val_loss: 0.6930 - val_accuracy: 0.5178\n",
      "Epoch 63/100\n",
      "186/186 [==============================] - 1s 6ms/step - loss: 0.6932 - accuracy: 0.5024 - val_loss: 0.6930 - val_accuracy: 0.5178\n",
      "Epoch 64/100\n",
      "186/186 [==============================] - 1s 6ms/step - loss: 0.6932 - accuracy: 0.4993 - val_loss: 0.6930 - val_accuracy: 0.5178\n",
      "Epoch 65/100\n",
      "186/186 [==============================] - 1s 6ms/step - loss: 0.6932 - accuracy: 0.4960 - val_loss: 0.6930 - val_accuracy: 0.5178\n",
      "Epoch 66/100\n",
      "186/186 [==============================] - 1s 6ms/step - loss: 0.6932 - accuracy: 0.5024 - val_loss: 0.6930 - val_accuracy: 0.5178\n",
      "Epoch 67/100\n",
      "186/186 [==============================] - 1s 6ms/step - loss: 0.6932 - accuracy: 0.5024 - val_loss: 0.6930 - val_accuracy: 0.5178\n",
      "Epoch 68/100\n",
      "186/186 [==============================] - 1s 6ms/step - loss: 0.6932 - accuracy: 0.4987 - val_loss: 0.6930 - val_accuracy: 0.5178\n",
      "Epoch 69/100\n",
      "186/186 [==============================] - 1s 6ms/step - loss: 0.6932 - accuracy: 0.5024 - val_loss: 0.6930 - val_accuracy: 0.5178\n",
      "Epoch 70/100\n",
      "186/186 [==============================] - 1s 6ms/step - loss: 0.6932 - accuracy: 0.5024 - val_loss: 0.6930 - val_accuracy: 0.5178\n",
      "Epoch 71/100\n",
      "186/186 [==============================] - 1s 6ms/step - loss: 0.6932 - accuracy: 0.5013 - val_loss: 0.6930 - val_accuracy: 0.5178\n",
      "Epoch 72/100\n",
      "186/186 [==============================] - 1s 6ms/step - loss: 0.6932 - accuracy: 0.5024 - val_loss: 0.6930 - val_accuracy: 0.5178\n",
      "Epoch 73/100\n",
      "186/186 [==============================] - 1s 6ms/step - loss: 0.6932 - accuracy: 0.5024 - val_loss: 0.6930 - val_accuracy: 0.5178\n",
      "Epoch 74/100\n",
      "186/186 [==============================] - 1s 7ms/step - loss: 0.6932 - accuracy: 0.5024 - val_loss: 0.6930 - val_accuracy: 0.5178\n",
      "Epoch 75/100\n",
      "186/186 [==============================] - 1s 6ms/step - loss: 0.6932 - accuracy: 0.5024 - val_loss: 0.6930 - val_accuracy: 0.5178\n",
      "Epoch 76/100\n",
      "186/186 [==============================] - 1s 6ms/step - loss: 0.6932 - accuracy: 0.5024 - val_loss: 0.6930 - val_accuracy: 0.5178\n",
      "Epoch 77/100\n",
      "186/186 [==============================] - 1s 5ms/step - loss: 0.6932 - accuracy: 0.4970 - val_loss: 0.6930 - val_accuracy: 0.5178\n",
      "Epoch 78/100\n",
      "186/186 [==============================] - 1s 6ms/step - loss: 0.6932 - accuracy: 0.5024 - val_loss: 0.6930 - val_accuracy: 0.5178\n",
      "Epoch 79/100\n",
      "186/186 [==============================] - 1s 5ms/step - loss: 0.6932 - accuracy: 0.5024 - val_loss: 0.6929 - val_accuracy: 0.5178\n",
      "Epoch 80/100\n",
      "186/186 [==============================] - 1s 6ms/step - loss: 0.6932 - accuracy: 0.5017 - val_loss: 0.6929 - val_accuracy: 0.5178\n",
      "Epoch 81/100\n",
      "186/186 [==============================] - 1s 6ms/step - loss: 0.6932 - accuracy: 0.5024 - val_loss: 0.6929 - val_accuracy: 0.5178\n",
      "Epoch 82/100\n",
      "186/186 [==============================] - 1s 6ms/step - loss: 0.6932 - accuracy: 0.5024 - val_loss: 0.6930 - val_accuracy: 0.5178\n",
      "Epoch 83/100\n",
      "186/186 [==============================] - 1s 6ms/step - loss: 0.6932 - accuracy: 0.5024 - val_loss: 0.6930 - val_accuracy: 0.5178\n",
      "Epoch 84/100\n",
      "186/186 [==============================] - 1s 6ms/step - loss: 0.6932 - accuracy: 0.5024 - val_loss: 0.6930 - val_accuracy: 0.5178\n",
      "Epoch 85/100\n",
      "186/186 [==============================] - 1s 6ms/step - loss: 0.6932 - accuracy: 0.5024 - val_loss: 0.6930 - val_accuracy: 0.5178\n",
      "Epoch 86/100\n",
      "186/186 [==============================] - 1s 6ms/step - loss: 0.6932 - accuracy: 0.5024 - val_loss: 0.6930 - val_accuracy: 0.5178\n",
      "Epoch 87/100\n",
      "186/186 [==============================] - 1s 6ms/step - loss: 0.6932 - accuracy: 0.5024 - val_loss: 0.6930 - val_accuracy: 0.5178\n",
      "Epoch 88/100\n",
      "186/186 [==============================] - 1s 6ms/step - loss: 0.6932 - accuracy: 0.4953 - val_loss: 0.6930 - val_accuracy: 0.5178\n",
      "Epoch 89/100\n",
      "186/186 [==============================] - 1s 6ms/step - loss: 0.6932 - accuracy: 0.5024 - val_loss: 0.6930 - val_accuracy: 0.5178\n",
      "Epoch 90/100\n",
      "186/186 [==============================] - 1s 6ms/step - loss: 0.6932 - accuracy: 0.5024 - val_loss: 0.6930 - val_accuracy: 0.5178\n",
      "Epoch 91/100\n",
      "186/186 [==============================] - 1s 6ms/step - loss: 0.6932 - accuracy: 0.5024 - val_loss: 0.6931 - val_accuracy: 0.5178\n",
      "Epoch 92/100\n",
      "186/186 [==============================] - 1s 6ms/step - loss: 0.6932 - accuracy: 0.5024 - val_loss: 0.6930 - val_accuracy: 0.5178\n",
      "Epoch 93/100\n",
      "186/186 [==============================] - 1s 6ms/step - loss: 0.6932 - accuracy: 0.5024 - val_loss: 0.6930 - val_accuracy: 0.5178\n",
      "Epoch 94/100\n",
      "186/186 [==============================] - 1s 6ms/step - loss: 0.6932 - accuracy: 0.5024 - val_loss: 0.6930 - val_accuracy: 0.5178\n",
      "Epoch 95/100\n",
      "186/186 [==============================] - 1s 6ms/step - loss: 0.6932 - accuracy: 0.5024 - val_loss: 0.6930 - val_accuracy: 0.5178\n",
      "Epoch 96/100\n",
      "186/186 [==============================] - 1s 6ms/step - loss: 0.6932 - accuracy: 0.4919 - val_loss: 0.6930 - val_accuracy: 0.5178\n",
      "Epoch 97/100\n",
      "186/186 [==============================] - 1s 6ms/step - loss: 0.6932 - accuracy: 0.5024 - val_loss: 0.6930 - val_accuracy: 0.5178\n",
      "Epoch 98/100\n",
      "186/186 [==============================] - 1s 5ms/step - loss: 0.6932 - accuracy: 0.5010 - val_loss: 0.6930 - val_accuracy: 0.5178\n",
      "Epoch 99/100\n",
      "186/186 [==============================] - 1s 6ms/step - loss: 0.6932 - accuracy: 0.5024 - val_loss: 0.6930 - val_accuracy: 0.5178\n",
      "Epoch 100/100\n",
      "186/186 [==============================] - 1s 6ms/step - loss: 0.6932 - accuracy: 0.5010 - val_loss: 0.6930 - val_accuracy: 0.5178\n"
     ]
    },
    {
     "data": {
      "text/plain": [
       "<keras.callbacks.History at 0x213b176ea90>"
      ]
     },
     "execution_count": 91,
     "metadata": {},
     "output_type": "execute_result"
    }
   ],
   "source": [
    "model.fit(Xtr,Ytr,epochs=100,validation_data=(Xva, Yva))"
   ]
  },
  {
   "cell_type": "markdown",
   "id": "8ea86aa9",
   "metadata": {},
   "source": [
    "# Decision Tree"
   ]
  },
  {
   "cell_type": "code",
   "execution_count": 92,
   "id": "6401be87",
   "metadata": {},
   "outputs": [],
   "source": [
    "learner = ml.dtree.treeClassify(Xtr,Ytr)"
   ]
  },
  {
   "cell_type": "code",
   "execution_count": 93,
   "id": "237f5ff5",
   "metadata": {},
   "outputs": [
    {
     "name": "stdout",
     "output_type": "stream",
     "text": [
      "Training error rate: 0.0\n",
      "Validation error rate: 0.3898989898989899\n"
     ]
    }
   ],
   "source": [
    "Ytr_pred = learner.predict(Xtr)\n",
    "Yva_pred = learner.predict(Xva)\n",
    "print(f'Training error rate: {sum(Ytr_pred != Ytr)/len(Ytr)}')\n",
    "print(f'Validation error rate: {sum(Yva_pred != Yva)/len(Yva)}')"
   ]
  },
  {
   "cell_type": "code",
   "execution_count": 98,
   "id": "87370bc3",
   "metadata": {},
   "outputs": [],
   "source": [
    "train_error_list = []\n",
    "validation_error_list = []\n",
    "for i in range(8):\n",
    "    learner = ml.dtree.treeClassify(Xtr,Ytr,maxDepth = i)\n",
    "    Ytr_pred = learner.predict(Xtr)\n",
    "    Yva_pred = learner.predict(Xva)\n",
    "    train_error_list.append(sum(Ytr_pred != Ytr)/len(Ytr))\n",
    "    validation_error_list.append(sum(Yva_pred != Yva)/len(Yva))\n"
   ]
  },
  {
   "cell_type": "code",
   "execution_count": 99,
   "id": "be2bb49d",
   "metadata": {},
   "outputs": [
    {
     "data": {
      "text/plain": [
       "<matplotlib.legend.Legend at 0x213b0fd5550>"
      ]
     },
     "execution_count": 99,
     "metadata": {},
     "output_type": "execute_result"
    },
    {
     "data": {
      "image/png": "[encoded data removed]",
      "text/plain": [
       "<Figure size 432x288 with 1 Axes>"
      ]
     },
     "metadata": {
      "needs_background": "light"
     },
     "output_type": "display_data"
    }
   ],
   "source": [
    "plt.plot(train_error_list,'b-',label = 'Train')\n",
    "plt.plot(validation_error_list,'r-',label = 'Validation')\n",
    "plt.legend()"
   ]
  },
  {
   "cell_type": "code",
   "execution_count": 104,
   "id": "817edc20",
   "metadata": {},
   "outputs": [],
   "source": [
    "train_error_list = []\n",
    "validation_error_list = []\n",
    "for i in range(14):\n",
    "    learner = ml.dtree.treeClassify(Xtr,Ytr,maxDepth = 3, minParent = 2**i)\n",
    "    Ytr_pred = learner.predict(Xtr)\n",
    "    Yva_pred = learner.predict(Xva)\n",
    "    train_error_list.append(sum(Ytr_pred != Ytr)/len(Ytr))\n",
    "    validation_error_list.append(sum(Yva_pred != Yva)/len(Yva))"
   ]
  },
  {
   "cell_type": "code",
   "execution_count": 105,
   "id": "86634dac",
   "metadata": {},
   "outputs": [
    {
     "data": {
      "text/plain": [
       "<matplotlib.legend.Legend at 0x213b0b6e1c0>"
      ]
     },
     "execution_count": 105,
     "metadata": {},
     "output_type": "execute_result"
    },
    {
     "data": {
      "image/png": "[encoded data removed]",
      "text/plain": [
       "<Figure size 432x288 with 1 Axes>"
      ]
     },
     "metadata": {
      "needs_background": "light"
     },
     "output_type": "display_data"
    }
   ],
   "source": [
    "plt.plot(train_error_list,'b-',label = 'Train')\n",
    "plt.plot(validation_error_list,'r-',label = 'Validation')\n",
    "plt.legend()"
   ]
  },
  {
   "cell_type": "code",
   "execution_count": 106,
   "id": "5bd72bbd",
   "metadata": {},
   "outputs": [],
   "source": [
    "train_error_list = []\n",
    "validation_error_list = []\n",
    "for i in range(1,14):\n",
    "    learner = ml.dtree.treeClassify(Xtr,Ytr,maxDepth = 3, minLeaf = 2**i,minParent =512)\n",
    "    Ytr_pred = learner.predict(Xtr)\n",
    "    Yva_pred = learner.predict(Xva)\n",
    "    train_error_list.append(sum(Ytr_pred != Ytr)/len(Ytr))\n",
    "    validation_error_list.append(sum(Yva_pred != Yva)/len(Yva))"
   ]
  },
  {
   "cell_type": "code",
   "execution_count": 107,
   "id": "4bd1a556",
   "metadata": {},
   "outputs": [
    {
     "data": {
      "text/plain": [
       "<matplotlib.legend.Legend at 0x213b17d4280>"
      ]
     },
     "execution_count": 107,
     "metadata": {},
     "output_type": "execute_result"
    },
    {
     "data": {
      "image/png": "[encoded data removed]",
      "text/plain": [
       "<Figure size 432x288 with 1 Axes>"
      ]
     },
     "metadata": {
      "needs_background": "light"
     },
     "output_type": "display_data"
    }
   ],
   "source": [
    "plt.plot(train_error_list,'b-',label = 'Train')\n",
    "plt.plot(validation_error_list,'r-',label = 'Validation')\n",
    "plt.legend()"
   ]
  },
  {
   "cell_type": "code",
   "execution_count": 110,
   "id": "1721e70d",
   "metadata": {},
   "outputs": [
    {
     "name": "stdout",
     "output_type": "stream",
     "text": [
      "Training error rate: 0.37436847423374875\n",
      "Validation error rate: 0.33535353535353535\n"
     ]
    }
   ],
   "source": [
    "learner = ml.dtree.treeClassify(Xtr,Ytr,maxDepth = 3,minParent =512,minLeaf = 64)"
   ]
  },
  {
   "cell_type": "code",
   "execution_count": 114,
   "id": "c5503ce6",
   "metadata": {},
   "outputs": [
    {
     "name": "stdout",
     "output_type": "stream",
     "text": [
      "Train AUC: 0.6863177294006136\n",
      "Validation AUC: 0.714723285700794\n"
     ]
    },
    {
     "data": {
      "image/png": "[encoded data removed]",
      "text/plain": [
       "<Figure size 432x288 with 1 Axes>"
      ]
     },
     "metadata": {
      "needs_background": "light"
     },
     "output_type": "display_data"
    }
   ],
   "source": [
    "Ytr_pred = learner.predict(Xtr)\n",
    "Yva_pred = learner.predict(Xva)\n",
    "ROC1 = learner.roc(Xtr,Ytr)\n",
    "ROC2 = learner.roc(Xva,Yva)\n",
    "\n",
    "plt.plot(ROC1[0],ROC1[1],label = 'train')\n",
    "plt.plot(ROC2[0],ROC2[1],label = 'validation')\n",
    "plt.legend()\n",
    "\n",
    "print(\"Train AUC: \" + str(learner.auc(Xtr, Ytr)))\n",
    "print(\"Validation AUC: \" + str(learner.auc(Xva, Yva)))\n",
    "\n",
    "Yte = np.vstack((np.arange(Xte.shape[0]), learner.predictSoft(Xte)[:,1])).T\n",
    "\n",
    "np.savetxt('Y_submit_tree.txt',Yte,'%d, %.2f',header='ID,Predicted',comments='',delimiter=',')"
   ]
  },
  {
   "cell_type": "markdown",
   "id": "ab43b475",
   "metadata": {},
   "source": [
    "# Random Forest"
   ]
  },
  {
   "cell_type": "code",
   "execution_count": null,
   "id": "ba7167c7",
   "metadata": {},
   "outputs": [],
   "source": []
  }
 ],
 "metadata": {
  "kernelspec": {
   "display_name": "Python 3",
   "language": "python",
   "name": "python3"
  },
  "language_info": {
   "codemirror_mode": {
    "name": "ipython",
    "version": 3
   },
   "file_extension": ".py",
   "mimetype": "text/x-python",
   "name": "python",
   "nbconvert_exporter": "python",
   "pygments_lexer": "ipython3",
   "version": "3.8.8"
  }
 },
 "nbformat": 4,
 "nbformat_minor": 5
}
