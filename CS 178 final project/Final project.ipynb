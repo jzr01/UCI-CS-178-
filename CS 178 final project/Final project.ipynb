{
 "cells": [
  {
   "cell_type": "code",
   "execution_count": 1,
   "id": "942a57cb",
   "metadata": {},
   "outputs": [],
   "source": [
    "import numpy as np\n",
    "import mltools as ml\n",
    "import matplotlib.pyplot as plt\n",
    "import sklearn\n",
    "import tensorflow as tf\n",
    "from tensorflow import keras\n",
    "from sklearn.ensemble import RandomForestClassifier"
   ]
  },
  {
   "cell_type": "code",
   "execution_count": 2,
   "id": "646286c1",
   "metadata": {},
   "outputs": [],
   "source": [
    "Xtr = np.genfromtxt('data/X_train.txt',delimiter=',')\n",
    "Ytr = np.genfromtxt('data/Y_train.txt',delimiter=',')\n",
    "Xte = np.genfromtxt('data/X_test.txt',delimiter=',')\n",
    "Xtr,Ytr = ml.shuffleData(Xtr,Ytr)\n",
    "\n",
    "Xtr,Xva,Ytr,Yva = ml.splitData(Xtr,Ytr); # split data into 80/20 train/validation\n",
    "Xtr, Ytr = ml.shuffleData(Xtr, Ytr)"
   ]
  },
  {
   "cell_type": "code",
   "execution_count": 3,
   "id": "edbca8cb",
   "metadata": {},
   "outputs": [
    {
     "name": "stdout",
     "output_type": "stream",
     "text": [
      "(5938, 107)\n",
      "(5938,)\n",
      "(1485, 107)\n",
      "(7422, 107)\n"
     ]
    }
   ],
   "source": [
    "print(Xtr.shape)\n",
    "print(Ytr.shape)\n",
    "print(Xva.shape)\n",
    "print(Xte.shape)"
   ]
  },
  {
   "cell_type": "markdown",
   "id": "115812a5",
   "metadata": {},
   "source": [
    "# Linear Classifier"
   ]
  },
  {
   "cell_type": "code",
   "execution_count": 58,
   "id": "7e3c7e03",
   "metadata": {},
   "outputs": [],
   "source": [
    "Xtr,params = ml.transforms.rescale(Xtr)\n",
    "Xva,_ = ml.transforms.rescale(Xva, params)\n",
    "Xte,_ = ml.transforms.rescale(Xte)"
   ]
  },
  {
   "cell_type": "code",
   "execution_count": 59,
   "id": "d119a9b9",
   "metadata": {},
   "outputs": [],
   "source": [
    "learner = ml.linearC.linearClassify()\n",
    "learner.train(Xtr, Ytr, reg=0.1, initStep=0.01, stopTol=1e-6, stopIter=100)"
   ]
  },
  {
   "cell_type": "code",
   "execution_count": 60,
   "id": "1865656f",
   "metadata": {},
   "outputs": [
    {
     "data": {
      "text/plain": [
       "0.615527113506231"
      ]
     },
     "execution_count": 60,
     "metadata": {},
     "output_type": "execute_result"
    }
   ],
   "source": [
    "sum(learner.predict(Xtr) == Ytr)/Xtr.shape[0]"
   ]
  },
  {
   "cell_type": "code",
   "execution_count": 61,
   "id": "fe42ee44",
   "metadata": {},
   "outputs": [
    {
     "data": {
      "text/plain": [
       "0.6067340067340067"
      ]
     },
     "execution_count": 61,
     "metadata": {},
     "output_type": "execute_result"
    }
   ],
   "source": [
    "sum(learner.predict(Xva) == Yva)/Xva.shape[0]"
   ]
  },
  {
   "cell_type": "code",
   "execution_count": 20,
   "id": "b816f53a",
   "metadata": {},
   "outputs": [
    {
     "name": "stdout",
     "output_type": "stream",
     "text": [
      "Train AUC: 0.6646324548922454\n",
      "Validation AUC: 0.6660171699359212\n"
     ]
    },
    {
     "data": {
      "text/plain": [
       "array([[0.00000000e+00, 3.83864099e-01],\n",
       "       [1.00000000e+00, 2.75440124e-01],\n",
       "       [2.00000000e+00, 5.71073187e-01],\n",
       "       ...,\n",
       "       [7.41900000e+03, 4.96726040e-01],\n",
       "       [7.42000000e+03, 6.66810853e-01],\n",
       "       [7.42100000e+03, 3.73789676e-01]])"
      ]
     },
     "execution_count": 20,
     "metadata": {},
     "output_type": "execute_result"
    },
    {
     "data": {
      "image/png": "[encoded data removed]",
      "text/plain": [
       "<Figure size 432x288 with 1 Axes>"
      ]
     },
     "metadata": {
      "needs_background": "light"
     },
     "output_type": "display_data"
    }
   ],
   "source": [
    "probs = learner.predictSoft(Xte)\n",
    "\n",
    "ROC1 = learner.roc(Xtr,Ytr)\n",
    "ROC2 = learner.roc(Xva,Yva)\n",
    "\n",
    "plt.plot(ROC1[0],ROC1[1],label = 'train')\n",
    "plt.plot(ROC2[0],ROC2[1],label = 'validation')\n",
    "plt.legend()\n",
    "\n",
    "print(\"Train AUC: \" + str(learner.auc(Xtr, Ytr)))\n",
    "print(\"Validation AUC: \" + str(learner.auc(Xva, Yva)))\n",
    "\n",
    "Yte = np.vstack((np.arange(Xte.shape[0]), learner.predictSoft(Xte)[:,1])).T\n",
    "\n",
    "np.savetxt('Y_submit_classifier.txt',Yte,'%d, %.2f',header='ID,Predicted',comments='',delimiter=',')"
   ]
  },
  {
   "cell_type": "markdown",
   "id": "2980b1e3",
   "metadata": {},
   "source": [
    "# Neural Network"
   ]
  },
  {
   "cell_type": "code",
   "execution_count": 9,
   "id": "dd3927dd",
   "metadata": {},
   "outputs": [],
   "source": [
    "\n",
    "model = keras.Sequential(\n",
    "    [\n",
    "        keras.layers.InputLayer(input_shape = Xtr[1].shape),\n",
    "        keras.layers.Dense(100, activation='softmax'),\n",
    "        keras.layers.Dense(100, activation='softmax'),\n",
    "        keras.layers.Dense(1,activation=\"sigmoid\")\n",
    "    ]\n",
    ")\n",
    "\n",
    "model.compile(\n",
    "    loss='binary_crossentropy', \n",
    "    optimizer = 'adam',\n",
    "    metrics=[\"accuracy\"],\n",
    ")"
   ]
  },
  {
   "cell_type": "code",
   "execution_count": 10,
   "id": "3481e8e1",
   "metadata": {},
   "outputs": [
    {
     "name": "stdout",
     "output_type": "stream",
     "text": [
      "Epoch 1/20\n",
      "186/186 [==============================] - 1s 4ms/step - loss: 0.6931 - accuracy: 0.5024 - val_loss: 0.6928 - val_accuracy: 0.5071\n",
      "Epoch 2/20\n",
      "186/186 [==============================] - 1s 4ms/step - loss: 0.6922 - accuracy: 0.5236 - val_loss: 0.6912 - val_accuracy: 0.5912\n",
      "Epoch 3/20\n",
      "186/186 [==============================] - 1s 3ms/step - loss: 0.6893 - accuracy: 0.5899 - val_loss: 0.6874 - val_accuracy: 0.6013\n",
      "Epoch 4/20\n",
      "186/186 [==============================] - 1s 5ms/step - loss: 0.6841 - accuracy: 0.6095 - val_loss: 0.6821 - val_accuracy: 0.6081\n",
      "Epoch 5/20\n",
      "186/186 [==============================] - 1s 4ms/step - loss: 0.6770 - accuracy: 0.6192 - val_loss: 0.6762 - val_accuracy: 0.6040\n",
      "Epoch 6/20\n",
      "186/186 [==============================] - 1s 4ms/step - loss: 0.6688 - accuracy: 0.6292 - val_loss: 0.6709 - val_accuracy: 0.6034\n",
      "Epoch 7/20\n",
      "186/186 [==============================] - 1s 4ms/step - loss: 0.6606 - accuracy: 0.6364 - val_loss: 0.6652 - val_accuracy: 0.6101\n",
      "Epoch 8/20\n",
      "186/186 [==============================] - 1s 3ms/step - loss: 0.6518 - accuracy: 0.6475 - val_loss: 0.6605 - val_accuracy: 0.6067\n",
      "Epoch 9/20\n",
      "186/186 [==============================] - 1s 4ms/step - loss: 0.6428 - accuracy: 0.6575 - val_loss: 0.6563 - val_accuracy: 0.6162\n",
      "Epoch 10/20\n",
      "186/186 [==============================] - 1s 3ms/step - loss: 0.6340 - accuracy: 0.6667 - val_loss: 0.6531 - val_accuracy: 0.6215\n",
      "Epoch 11/20\n",
      "186/186 [==============================] - 1s 4ms/step - loss: 0.6245 - accuracy: 0.6756 - val_loss: 0.6510 - val_accuracy: 0.6209\n",
      "Epoch 12/20\n",
      "186/186 [==============================] - 1s 4ms/step - loss: 0.6148 - accuracy: 0.6876 - val_loss: 0.6496 - val_accuracy: 0.6168\n",
      "Epoch 13/20\n",
      "186/186 [==============================] - 1s 4ms/step - loss: 0.6055 - accuracy: 0.6962 - val_loss: 0.6499 - val_accuracy: 0.6168\n",
      "Epoch 14/20\n",
      "186/186 [==============================] - 1s 4ms/step - loss: 0.5956 - accuracy: 0.7097 - val_loss: 0.6502 - val_accuracy: 0.6162\n",
      "Epoch 15/20\n",
      "186/186 [==============================] - 1s 4ms/step - loss: 0.5859 - accuracy: 0.7146 - val_loss: 0.6514 - val_accuracy: 0.6263\n",
      "Epoch 16/20\n",
      "186/186 [==============================] - 1s 4ms/step - loss: 0.5765 - accuracy: 0.7235 - val_loss: 0.6514 - val_accuracy: 0.6229\n",
      "Epoch 17/20\n",
      "186/186 [==============================] - 1s 4ms/step - loss: 0.5685 - accuracy: 0.7317 - val_loss: 0.6514 - val_accuracy: 0.6195\n",
      "Epoch 18/20\n",
      "186/186 [==============================] - 1s 3ms/step - loss: 0.5583 - accuracy: 0.7433 - val_loss: 0.6561 - val_accuracy: 0.6195\n",
      "Epoch 19/20\n",
      "186/186 [==============================] - 1s 3ms/step - loss: 0.5500 - accuracy: 0.7476 - val_loss: 0.6608 - val_accuracy: 0.6189\n",
      "Epoch 20/20\n",
      "186/186 [==============================] - 1s 3ms/step - loss: 0.5412 - accuracy: 0.7535 - val_loss: 0.6607 - val_accuracy: 0.6215\n"
     ]
    },
    {
     "data": {
      "text/plain": [
       "<keras.callbacks.History at 0x1ba86075910>"
      ]
     },
     "execution_count": 10,
     "metadata": {},
     "output_type": "execute_result"
    }
   ],
   "source": [
    "model.fit(Xtr,Ytr,epochs=20,validation_data=(Xva, Yva))"
   ]
  },
  {
   "cell_type": "code",
   "execution_count": 24,
   "id": "c58537ab",
   "metadata": {},
   "outputs": [],
   "source": [
    "Yte = model.predict(Xte)\n",
    "Yte = np.vstack((np.arange(Xte.shape[0]),Yte[:,0])).T\n",
    "np.savetxt('Y_submit_NN.txt',Yte,'%d, %.2f',header='ID,Predicted',comments='',delimiter=',')"
   ]
  },
  {
   "cell_type": "markdown",
   "id": "dafa73ef",
   "metadata": {},
   "source": [
    "# Decision Tree"
   ]
  },
  {
   "cell_type": "code",
   "execution_count": 25,
   "id": "2b721a33",
   "metadata": {},
   "outputs": [],
   "source": [
    "learner = ml.dtree.treeClassify(Xtr,Ytr)"
   ]
  },
  {
   "cell_type": "code",
   "execution_count": 26,
   "id": "2115a1d6",
   "metadata": {},
   "outputs": [
    {
     "name": "stdout",
     "output_type": "stream",
     "text": [
      "Training error rate: 0.0\n",
      "Validation error rate: 0.3744107744107744\n"
     ]
    }
   ],
   "source": [
    "Ytr_pred = learner.predict(Xtr)\n",
    "Yva_pred = learner.predict(Xva)\n",
    "print(f'Training error rate: {sum(Ytr_pred != Ytr)/len(Ytr)}')\n",
    "print(f'Validation error rate: {sum(Yva_pred != Yva)/len(Yva)}')"
   ]
  },
  {
   "cell_type": "code",
   "execution_count": 27,
   "id": "a7f0d5bf",
   "metadata": {},
   "outputs": [],
   "source": [
    "train_error_list = []\n",
    "validation_error_list = []\n",
    "for i in range(8):\n",
    "    learner = ml.dtree.treeClassify(Xtr,Ytr,maxDepth = i)\n",
    "    Ytr_pred = learner.predict(Xtr)\n",
    "    Yva_pred = learner.predict(Xva)\n",
    "    train_error_list.append(sum(Ytr_pred != Ytr)/len(Ytr))\n",
    "    validation_error_list.append(sum(Yva_pred != Yva)/len(Yva))\n"
   ]
  },
  {
   "cell_type": "code",
   "execution_count": 28,
   "id": "f2577d20",
   "metadata": {},
   "outputs": [
    {
     "data": {
      "text/plain": [
       "<matplotlib.legend.Legend at 0x1ba86308fd0>"
      ]
     },
     "execution_count": 28,
     "metadata": {},
     "output_type": "execute_result"
    },
    {
     "data": {
      "image/png": "[encoded data removed]",
      "text/plain": [
       "<Figure size 432x288 with 1 Axes>"
      ]
     },
     "metadata": {
      "needs_background": "light"
     },
     "output_type": "display_data"
    }
   ],
   "source": [
    "plt.plot(train_error_list,'b-',label = 'Train')\n",
    "plt.plot(validation_error_list,'r-',label = 'Validation')\n",
    "plt.legend()"
   ]
  },
  {
   "cell_type": "code",
   "execution_count": 29,
   "id": "0b008c3d",
   "metadata": {},
   "outputs": [],
   "source": [
    "train_error_list = []\n",
    "validation_error_list = []\n",
    "for i in range(14):\n",
    "    learner = ml.dtree.treeClassify(Xtr,Ytr,maxDepth = 5, minParent = 2**i)\n",
    "    Ytr_pred = learner.predict(Xtr)\n",
    "    Yva_pred = learner.predict(Xva)\n",
    "    train_error_list.append(sum(Ytr_pred != Ytr)/len(Ytr))\n",
    "    validation_error_list.append(sum(Yva_pred != Yva)/len(Yva))"
   ]
  },
  {
   "cell_type": "code",
   "execution_count": 30,
   "id": "7380b5df",
   "metadata": {},
   "outputs": [
    {
     "data": {
      "text/plain": [
       "<matplotlib.legend.Legend at 0x1ba8629ff40>"
      ]
     },
     "execution_count": 30,
     "metadata": {},
     "output_type": "execute_result"
    },
    {
     "data": {
      "image/png": "[encoded data removed]",
      "text/plain": [
       "<Figure size 432x288 with 1 Axes>"
      ]
     },
     "metadata": {
      "needs_background": "light"
     },
     "output_type": "display_data"
    }
   ],
   "source": [
    "plt.plot(train_error_list,'b-',label = 'Train')\n",
    "plt.plot(validation_error_list,'r-',label = 'Validation')\n",
    "plt.legend()"
   ]
  },
  {
   "cell_type": "code",
   "execution_count": 31,
   "id": "8a23c34e",
   "metadata": {},
   "outputs": [],
   "source": [
    "train_error_list = []\n",
    "validation_error_list = []\n",
    "for i in range(1,14):\n",
    "    learner = ml.dtree.treeClassify(Xtr,Ytr,maxDepth = 5, minLeaf = 2**i,minParent =32)\n",
    "    Ytr_pred = learner.predict(Xtr)\n",
    "    Yva_pred = learner.predict(Xva)\n",
    "    train_error_list.append(sum(Ytr_pred != Ytr)/len(Ytr))\n",
    "    validation_error_list.append(sum(Yva_pred != Yva)/len(Yva))"
   ]
  },
  {
   "cell_type": "code",
   "execution_count": 32,
   "id": "99bb7dee",
   "metadata": {},
   "outputs": [
    {
     "data": {
      "text/plain": [
       "<matplotlib.legend.Legend at 0x1ba85b5f880>"
      ]
     },
     "execution_count": 32,
     "metadata": {},
     "output_type": "execute_result"
    },
    {
     "data": {
      "image/png": "[encoded data removed]",
      "text/plain": [
       "<Figure size 432x288 with 1 Axes>"
      ]
     },
     "metadata": {
      "needs_background": "light"
     },
     "output_type": "display_data"
    }
   ],
   "source": [
    "plt.plot(train_error_list,'b-',label = 'Train')\n",
    "plt.plot(validation_error_list,'r-',label = 'Validation')\n",
    "plt.legend()"
   ]
  },
  {
   "cell_type": "code",
   "execution_count": 55,
   "id": "3d6bad43",
   "metadata": {},
   "outputs": [],
   "source": [
    "learner = ml.dtree.treeClassify(Xtr,Ytr,maxDepth = 5,minParent =32,minLeaf = 8)"
   ]
  },
  {
   "cell_type": "code",
   "execution_count": 56,
   "id": "d020a515",
   "metadata": {},
   "outputs": [
    {
     "data": {
      "text/plain": [
       "0.6544291007073089"
      ]
     },
     "execution_count": 56,
     "metadata": {},
     "output_type": "execute_result"
    }
   ],
   "source": [
    "sum(learner.predict(Xtr) == Ytr)/Ytr.shape[0]"
   ]
  },
  {
   "cell_type": "code",
   "execution_count": 57,
   "id": "84744f17",
   "metadata": {},
   "outputs": [
    {
     "data": {
      "text/plain": [
       "0.6511784511784512"
      ]
     },
     "execution_count": 57,
     "metadata": {},
     "output_type": "execute_result"
    }
   ],
   "source": [
    "sum(learner.predict(Xva) == Yva)/Yva.shape[0]"
   ]
  },
  {
   "cell_type": "code",
   "execution_count": 34,
   "id": "88e2db81",
   "metadata": {},
   "outputs": [
    {
     "name": "stdout",
     "output_type": "stream",
     "text": [
      "Train AUC: 0.7249525502489714\n",
      "Validation AUC: 0.7251068585403379\n"
     ]
    },
    {
     "data": {
      "image/png": "[encoded data removed]",
      "text/plain": [
       "<Figure size 432x288 with 1 Axes>"
      ]
     },
     "metadata": {
      "needs_background": "light"
     },
     "output_type": "display_data"
    }
   ],
   "source": [
    "Ytr_pred = learner.predict(Xtr)\n",
    "Yva_pred = learner.predict(Xva)\n",
    "ROC1 = learner.roc(Xtr,Ytr)\n",
    "ROC2 = learner.roc(Xva,Yva)\n",
    "\n",
    "plt.plot(ROC1[0],ROC1[1],label = 'train')\n",
    "plt.plot(ROC2[0],ROC2[1],label = 'validation')\n",
    "plt.legend()\n",
    "\n",
    "print(\"Train AUC: \" + str(learner.auc(Xtr, Ytr)))\n",
    "print(\"Validation AUC: \" + str(learner.auc(Xva, Yva)))\n",
    "\n",
    "Yte = np.vstack((np.arange(Xte.shape[0]), learner.predictSoft(Xte)[:,1])).T\n",
    "\n",
    "np.savetxt('Y_submit_tree.txt',Yte,'%d, %.2f',header='ID,Predicted',comments='',delimiter=',')"
   ]
  },
  {
   "cell_type": "markdown",
   "id": "e9a29ac0",
   "metadata": {},
   "source": [
    "# Bagged Decision Tree"
   ]
  },
  {
   "cell_type": "code",
   "execution_count": 64,
   "id": "794faed4",
   "metadata": {},
   "outputs": [],
   "source": [
    "nbags = 50\n",
    "ensemble = []\n",
    "Yte_pred = np.zeros((1,np.size(Xte,0)))\n",
    "for i in range(nbags):\n",
    "    Xb,Yb = ml.bootstrapData(Xtr,Ytr)\n",
    "    ensemble.append(ml.dtree.treeClassify(Xb,Yb))\n",
    "    Yte_pred += ensemble[i].predict(Xte)\n",
    "Yte_pred /= nbags"
   ]
  },
  {
   "cell_type": "code",
   "execution_count": 37,
   "id": "80bbfb8f",
   "metadata": {},
   "outputs": [],
   "source": [
    "Yte = np.vstack((np.arange(Xte.shape[0]),Yte_pred)).T"
   ]
  },
  {
   "cell_type": "code",
   "execution_count": 38,
   "id": "25385bcf",
   "metadata": {},
   "outputs": [],
   "source": [
    "np.savetxt('Y_submit_bag2.txt',Yte,'%d, %.2f',header = 'Id,Predicted',comments = '',delimiter = ',')"
   ]
  },
  {
   "cell_type": "code",
   "execution_count": 66,
   "id": "f9cc110c",
   "metadata": {},
   "outputs": [
    {
     "name": "stdout",
     "output_type": "stream",
     "text": [
      "[0.00016841 0.00016841 0.00016841 ... 0.00016841 0.00016841 0.00016841]\n"
     ]
    }
   ],
   "source": [
    "nbags = 50\n",
    "ensemble = []\n",
    "Ytr_pred = np.zeros((1,np.size(Xtr,0)))\n",
    "for i in range(nbags):\n",
    "    Xb,Yb = ml.bootstrapData(Xtr,Ytr)\n",
    "    ensemble.append(ml.dtree.treeClassify(Xb,Yb))\n",
    "    Ytr_pred += ensemble[i].predict(Xtr)\n",
    "Ytr_pred /= nbags\n",
    "for i in range(Ytr_pred.shape[1]):\n",
    "    if Ytr_pred[0,i] >= 0.5:\n",
    "        Ytr_pred[0,i] = 1\n",
    "    elif Ytr_pred[0,i] <= 0.5:\n",
    "        Ytr_pred[0,i] = 0\n",
    "print(sum(Ytr_pred == Ytr)/Ytr_pred.shape[1])"
   ]
  },
  {
   "cell_type": "code",
   "execution_count": 76,
   "id": "fd203da7",
   "metadata": {},
   "outputs": [
    {
     "data": {
      "text/plain": [
       "1.0"
      ]
     },
     "execution_count": 76,
     "metadata": {},
     "output_type": "execute_result"
    }
   ],
   "source": [
    "sum(Ytr_pred[0] == Ytr)/ Ytr.shape[0]\n",
    "#print(sum(Ytr_pred[0] == Ytr)/Ytr.shape[1])"
   ]
  },
  {
   "cell_type": "code",
   "execution_count": 77,
   "id": "67a4f7fc",
   "metadata": {},
   "outputs": [
    {
     "name": "stdout",
     "output_type": "stream",
     "text": [
      "0.6606060606060606\n"
     ]
    }
   ],
   "source": [
    "nbags = 50\n",
    "ensemble = []\n",
    "Yva_pred = np.zeros((1,np.size(Xva,0)))\n",
    "for i in range(nbags):\n",
    "    Xb,Yb = ml.bootstrapData(Xtr,Ytr)\n",
    "    ensemble.append(ml.dtree.treeClassify(Xb,Yb))\n",
    "    Yva_pred += ensemble[i].predict(Xva)\n",
    "Yva_pred /= nbags\n",
    "for i in range(Yva_pred.shape[1]):\n",
    "    if Yva_pred[0,i] >= 0.5:\n",
    "        Yva_pred[0,i] = 1\n",
    "    elif Yva_pred[0,i] <= 0.5:\n",
    "        Yva_pred[0,i] = 0\n",
    "print(sum(Yva_pred[0] == Yva)/Yva.shape[0])"
   ]
  },
  {
   "cell_type": "markdown",
   "id": "e558ac7b",
   "metadata": {},
   "source": [
    "# Random Forest"
   ]
  },
  {
   "cell_type": "code",
   "execution_count": 4,
   "id": "dd3cc6fc",
   "metadata": {},
   "outputs": [],
   "source": [
    "classifier_rf = RandomForestClassifier(random_state=42, n_jobs=-1, max_depth=50,\n",
    "                                       n_estimators=100, oob_score=True)"
   ]
  },
  {
   "cell_type": "code",
   "execution_count": 5,
   "id": "80467ec9",
   "metadata": {},
   "outputs": [
    {
     "data": {
      "text/plain": [
       "RandomForestClassifier(max_depth=50, n_jobs=-1, oob_score=True, random_state=42)"
      ]
     },
     "execution_count": 5,
     "metadata": {},
     "output_type": "execute_result"
    }
   ],
   "source": [
    "classifier_rf.fit(Xtr,Ytr)"
   ]
  },
  {
   "cell_type": "code",
   "execution_count": 6,
   "id": "e003a87c",
   "metadata": {},
   "outputs": [
    {
     "data": {
      "text/plain": [
       "1.0"
      ]
     },
     "execution_count": 6,
     "metadata": {},
     "output_type": "execute_result"
    }
   ],
   "source": [
    "sum(classifier_rf.predict(Xtr) == Ytr)/Ytr.shape[0]"
   ]
  },
  {
   "cell_type": "code",
   "execution_count": 7,
   "id": "7f103330",
   "metadata": {},
   "outputs": [
    {
     "data": {
      "text/plain": [
       "0.6579124579124579"
      ]
     },
     "execution_count": 7,
     "metadata": {},
     "output_type": "execute_result"
    }
   ],
   "source": [
    "sum(classifier_rf.predict(Xva) == Yva)/Yva.shape[0]"
   ]
  },
  {
   "cell_type": "code",
   "execution_count": 8,
   "id": "bda02e98",
   "metadata": {},
   "outputs": [],
   "source": [
    "Yte = np.vstack((np.arange(Xte.shape[0]),classifier_rf.predict(Xte))).T\n",
    "np.savetxt('Y_submit_random_forest.txt',Yte,'%d, %.2f',header = 'Id,Predicted',comments = '',delimiter = ',')"
   ]
  },
  {
   "cell_type": "code",
   "execution_count": null,
   "id": "87647a46",
   "metadata": {},
   "outputs": [],
   "source": []
  }
 ],
 "metadata": {
  "kernelspec": {
   "display_name": "Python 3",
   "language": "python",
   "name": "python3"
  },
  "language_info": {
   "codemirror_mode": {
    "name": "ipython",
    "version": 3
   },
   "file_extension": ".py",
   "mimetype": "text/x-python",
   "name": "python",
   "nbconvert_exporter": "python",
   "pygments_lexer": "ipython3",
   "version": "3.8.8"
  }
 },
 "nbformat": 4,
 "nbformat_minor": 5
}
